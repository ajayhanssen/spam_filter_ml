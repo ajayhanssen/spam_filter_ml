{
 "cells": [
  {
   "cell_type": "markdown",
   "metadata": {},
   "source": [
    "## Spam Classifier\n",
    "__Machine Learning & Data Science Assignment by Thöni Andreas__  \n",
    "2024\n",
    "\n",
    "---\n",
    "Click [here](https://github.com/ajayhanssen/spam_filter_ml), to get to the Github repository\n",
    "\n",
    "---"
   ]
  },
  {
   "cell_type": "markdown",
   "metadata": {},
   "source": [
    "#### Preprocessing Infrastructure\n",
    "This section introduces the __EmailPreprocessor__ class, which is able to convert a raw email file into a stemmed and normalized string. It inherits from sklearn's BaseEstimator and TransformerMixin classes, so that it is possible to use the class with sklearn's __make_pipeline()__ later."
   ]
  },
  {
   "cell_type": "code",
   "execution_count": 23,
   "metadata": {},
   "outputs": [],
   "source": [
    "from email import policy\n",
    "from email.parser import BytesParser\n",
    "from nltk.stem.snowball import SnowballStemmer\n",
    "import re\n",
    "from string import punctuation\n",
    "from sklearn.base import BaseEstimator, TransformerMixin\n",
    "\n",
    "class EmailPreprocessor(BaseEstimator, TransformerMixin):\n",
    "    \"\"\"\n",
    "    class for processing emails, extracting email parts and applying regex and stemming\n",
    "    \"\"\"\n",
    "\n",
    "    def __init__(self) -> None:\n",
    "        pass\n",
    "\n",
    "    def extract_email_from_file(self, file_path : str) -> str:\n",
    "        \"\"\"\n",
    "        Extracts the subject, sender, recipient and body of an email file\n",
    "        arguments: file_path - path to the email file\n",
    "        return: string containing the email\n",
    "        \"\"\"\n",
    "\n",
    "        # Open the email file\n",
    "        with open(file_path, 'rb') as file:\n",
    "            # Parse the email using the default policy\n",
    "            email_message = BytesParser(policy=policy.default).parse(file)\n",
    "        \n",
    "        # Extract headers, like subject, sender and recipient\n",
    "        # the .get() method is used to avoid errors if the header is not present (returns failobj instead)\n",
    "        subject = email_message.get('Subject', '(No Subject)')\n",
    "        sender = email_message.get('From', '(Unknown Sender)')\n",
    "        recipient = email_message.get('To', '(Unknown Recipient)')\n",
    "        \n",
    "        # Extract body\n",
    "        # initilaize empty string for storing the body\n",
    "        body = \"\"\n",
    "        if email_message.get_body(preferencelist=('plain', 'html')):\n",
    "            body_content = email_message.get_body(preferencelist=('plain', 'html'))\n",
    "            body = body_content.get_content()  # Automatically decodes and returns the content\n",
    "        \n",
    "        # return email as string\n",
    "        return f\"{subject} {sender} {recipient} {body.strip()}\"\n",
    "\n",
    "    def stem_and_regex(self, email_string : str) -> str:\n",
    "        \"\"\"\n",
    "        Applies stemming and regex operations to the email\n",
    "        arguments: email - dictionary with the email parts or string with the email\n",
    "        return: string with the processed email\n",
    "        \"\"\"\n",
    "\n",
    "        # convert to lowercase\n",
    "        email_string = email_string.lower()\n",
    "\n",
    "        ## perform regex operations\n",
    "        # change email adresses to 'emailaddr'\n",
    "        email_string = re.sub(r'\\b[\\w\\.-]+@[\\w\\.-]+\\.\\w+\\b', 'emailaddr', email_string)\n",
    "\n",
    "        # change urls to 'httpaddr'\n",
    "        email_string = re.sub(r'(http|https)://[^\\s]*', 'httpaddr', email_string)\n",
    "\n",
    "        # change time to 'time'\n",
    "        email_string = re.sub(r'\\b\\d{1,2}:\\d{1,2}(:\\d{1,2})?\\b', 'time', email_string)\n",
    "\n",
    "        # change date to 'date'\n",
    "        email_string = re.sub(r'\\b\\d{1,2}/\\d{1,2}/\\d{4}\\b', 'date', email_string)\n",
    "\n",
    "        # change dollar to 'dollar'\n",
    "        email_string = re.sub(r'\\$\\S+', 'dollar', email_string)\n",
    "\n",
    "        # change www-URLs to 'wwwaddr'\n",
    "        email_string = re.sub(r'\\bwww\\.[^\\s]*\\b', 'wwwaddr', email_string)\n",
    "\n",
    "        # change percentages to 'percent'\n",
    "        email_string = re.sub(r'\\b\\d+%', 'percent', email_string)\n",
    "\n",
    "        # change ip to 'ipaddr'\n",
    "        email_string = re.sub(r'\\b\\d{1,3}\\.\\d{1,3}\\.\\d{1,3}\\.\\d{1,3}\\b', 'ipaddr', email_string)\n",
    "\n",
    "        # change numbers to 'number'\n",
    "        email_string = re.sub(r'\\b\\d+\\b', 'number', email_string)\n",
    "\n",
    "        # Remove itemization prefixes (bullets, numbered lists, etc.)\n",
    "        email_string = re.sub(r'^\\s*[\\d\\w][\\.\\)\\-]\\s*|[\\u2022\\u2219\\u25CB·]\\s*', '', email_string, flags=re.MULTILINE)\n",
    "\n",
    "        ## other processing tasks\n",
    "        # remove all kinds of punctuation\n",
    "        email_string = email_string.translate(str.maketrans('', '', punctuation))\n",
    "\n",
    "        # remove newlines and tabs\n",
    "        email_string = email_string.replace('\\n', ' ')\n",
    "        email_string = email_string.replace('\\t', ' ')\n",
    "\n",
    "        # remove multiple spaces\n",
    "        email_string = re.sub(r'\\s+', ' ', email_string)\n",
    "\n",
    "        ## stemming\n",
    "        # stem the words using a Snowball stemmer (newer version of Porter stemmer apparently)\n",
    "        stemmer = SnowballStemmer('english')\n",
    "\n",
    "        # iterate through the words in the email-string and apply stemming, then join them back together\n",
    "        email_string = ' '.join([stemmer.stem(word) for word in email_string.split()])\n",
    "\n",
    "        # return single string containing the processed email\n",
    "        return email_string\n",
    "\n",
    "    def process_email(self, email_file_path : str) -> str:\n",
    "        \"\"\"\n",
    "        Process an email file, calls the extract_email_from_file and stem_and_regex functions\n",
    "        arguments: email_file_path - path to the email file\n",
    "        return: string with the processed email\n",
    "        \"\"\"\n",
    "\n",
    "        # call the extract_email_from_file function to get the email parts from the file\n",
    "        email_parts = self.extract_email_from_file(email_file_path)\n",
    "\n",
    "        # call the stem_and_regex function to process the email parts\n",
    "        processed = self.stem_and_regex(email_parts)\n",
    "\n",
    "        # return the processed email\n",
    "        return processed\n",
    "    \n",
    "    ## methods for the transformer (needed to work with sklearn pipelines)\n",
    "    def fit(self, X, y=None) -> None:\n",
    "        \"\"\"\n",
    "        Fit method for the transformer, does nothing in this case\n",
    "        \"\"\"\n",
    "\n",
    "        return\n",
    "    \n",
    "    def transform(self, X : list[str]) -> list[str]:\n",
    "        \"\"\"\n",
    "        Transform method for the transformer, applies the stem_and_regex function to the emails\n",
    "        arguments: X - list of emails\n",
    "        return: list of processed emails\n",
    "        \"\"\"\n",
    "\n",
    "        return [self.stem_and_regex(email) for email in X]\n"
   ]
  },
  {
   "cell_type": "markdown",
   "metadata": {},
   "source": [
    "---\n",
    "#### Load and preprocess ham and spam emails\n",
    "This section introduces a function which can be used to extract email-files from a given directory, and preprocess them."
   ]
  },
  {
   "cell_type": "code",
   "execution_count": 24,
   "metadata": {},
   "outputs": [],
   "source": [
    "# if this is set to false, only ham and spam 1 will be used\n",
    "# if this is set to true, ham and spam 2 will also be used\n",
    "full_dataset = True\n",
    "\n",
    "# If this is set to false, only the easy_ham folders will be used\n",
    "# If this is set to true, the hard_ham directories are also used\n",
    "include_hard_ham = True"
   ]
  },
  {
   "cell_type": "code",
   "execution_count": 25,
   "metadata": {},
   "outputs": [
    {
     "name": "stdout",
     "output_type": "stream",
     "text": [
      "Error processing file ./datasets/20030228_spam/spam\\00217.43b4ef3d9c56cf42be9c37b546a19e78\n",
      "Error processing file ./datasets/20030228_spam/spam\\00319.a99dff9c010e00ec182ed5701556d330\n",
      "Error processing file ./datasets/20030228_spam/spam\\00388.53eae0055e66fcb7194f9cca080fdefe\n",
      "Error processing file ./datasets/20050311_spam_2/spam_2\\00002.9438920e9a55591b18e60d1ed37d992b\n",
      "Error processing file ./datasets/20050311_spam_2/spam_2\\00003.590eff932f8704d8b0fcbe69d023b54d\n",
      "Error processing file ./datasets/20050311_spam_2/spam_2\\00004.bdcc075fa4beb5157b5dd6cd41d8887b\n",
      "Error processing file ./datasets/20050311_spam_2/spam_2\\00005.ed0aba4d386c5e62bc737cf3f0ed9589\n",
      "Error processing file ./datasets/20050311_spam_2/spam_2\\00006.3ca1f399ccda5d897fecb8c57669a283\n",
      "Error processing file ./datasets/20050311_spam_2/spam_2\\00106.09988f439b8547dc90efb1530c02329b\n",
      "Error processing file ./datasets/20050311_spam_2/spam_2\\00108.813fc6306b631b5c58ecfc26caf3a8dc\n",
      "Error processing file ./datasets/20050311_spam_2/spam_2\\00293.2503973d5b437aa173b6dd97e6f14202\n",
      "Error processing file ./datasets/20050311_spam_2/spam_2\\00324.272b1fb3642d24e21dac949444b21e65\n",
      "Error processing file ./datasets/20050311_spam_2/spam_2\\00352.206639789c6ba89977375c62856f20fc\n",
      "Error processing file ./datasets/20050311_spam_2/spam_2\\00380.717154ebf88ae594956736cc50bdeaf4\n",
      "Error processing file ./datasets/20050311_spam_2/spam_2\\00395.74aee42fac915ca758047506ec59a21f\n",
      "Error processing file ./datasets/20050311_spam_2/spam_2\\00409.1faf0d6f87e8b70f0bb05b9040d56fca\n",
      "Error processing file ./datasets/20050311_spam_2/spam_2\\00478.a4d1f3bcbb571f1c3809bf47cb5ee57f\n",
      "Error processing file ./datasets/20050311_spam_2/spam_2\\00573.f33cc9f9253eda8eceaa7ace8f1a0f50\n",
      "Error processing file ./datasets/20050311_spam_2/spam_2\\00579.d94454f0e596c00bf22ce1f315427143\n",
      "Error processing file ./datasets/20050311_spam_2/spam_2\\00580.c3b23134b4767f5e796d0df997fede33\n",
      "Error processing file ./datasets/20050311_spam_2/spam_2\\00760.254b8986f3d7b6cbda1cc7ce16860e6c\n",
      "Error processing file ./datasets/20050311_spam_2/spam_2\\00824.eec96f74d95afedbe574498808d29395\n",
      "Error processing file ./datasets/20050311_spam_2/spam_2\\00941.3ad67a2e6c3bc19d2187dd5a98e05c9d\n",
      "Error processing file ./datasets/20050311_spam_2/spam_2\\00983.753f8ed9cf897cce13c3d5358f2d77d4\n",
      "Error processing file ./datasets/20050311_spam_2/spam_2\\01007.255b826a1098e8b7d603c7dcf79f3fba\n",
      "Error processing file ./datasets/20050311_spam_2/spam_2\\01220.e399b9acc45a23ec853a9bb1d2a1a859\n",
      "Number of emails loaded: 4651\n"
     ]
    }
   ],
   "source": [
    "import os\n",
    "\n",
    "\n",
    "def load_data_from_directories(directory : str, label : str) -> tuple[list[str], list[int]]:\n",
    "    \"\"\"\n",
    "    Load email data from given directories (ham and spam)\n",
    "    arguments: directory - path to the file directory\n",
    "               label - 'ham' or 'spam' label\n",
    "    return: emails - list of email strings\n",
    "            labels - list of labels (0 for ham, 1 for spam)\n",
    "    \"\"\"\n",
    "\n",
    "    # Create an instance of the EmailPreprocessor class defined above\n",
    "    preprocessor = EmailPreprocessor()\n",
    "\n",
    "    # Initialize lists to store the emails and labels\n",
    "    emails = []\n",
    "    labels = []\n",
    "\n",
    "    ## Load ham emails\n",
    "    # iterate through the files in the ham directory\n",
    "    for file_name in os.listdir(directory):\n",
    "        file_path = os.path.join(directory, file_name)\n",
    "\n",
    "        # as the open() function sometimes throwed an error caused by encoding issues,\n",
    "        # these parts are wrapped in a try-except block (happens a few times in the code)\n",
    "        try:\n",
    "            # process the email file using the process_email method of the EmailPreprocessor class\n",
    "            email = preprocessor.process_email(file_path)\n",
    "            # append the processed email to the emails list\n",
    "            emails.append(email)\n",
    "\n",
    "            if label == 'ham':\n",
    "                # append the label (0 for ham) to the labels list\n",
    "                labels.append(0)\n",
    "            elif label == 'spam':\n",
    "                # append the label (1 for spam) to the labels list\n",
    "                labels.append(1)\n",
    "            else:\n",
    "                # if the label is not 'ham' or 'spam', raise a ValueError\n",
    "                raise ValueError(\"Label must be 'ham' or 'spam'\")\n",
    "\n",
    "        except:\n",
    "            # if an error ocurred while reading from the file, print an error message and proceed to the next file\n",
    "            print(f\"Error processing file {file_path}\")\n",
    "\n",
    "    # return the emails and labels lists\n",
    "    return emails, labels\n",
    "\n",
    "\n",
    "## use the function to load the data\n",
    "# define the paths to the ham and spam directories\n",
    "easy_ham_1_dir = \"./datasets/20030228_easy_ham/easy_ham\"\n",
    "hard_ham_1_dir = \"./datasets/20030228_hard_ham/hard_ham\"\n",
    "spam_1_dir = \"./datasets/20030228_spam/spam\"\n",
    "\n",
    "easy_ham_2_dir = \"./datasets/20030228_easy_ham_2/easy_ham_2\"\n",
    "spam_2_dir = \"./datasets/20050311_spam_2/spam_2\"\n",
    "\n",
    "# call the function to load and preprocess the data\n",
    "emails, labels = load_data_from_directories(easy_ham_1_dir, 'ham')\n",
    "emails_spam, labels_spam = load_data_from_directories(spam_1_dir, 'spam')\n",
    "\n",
    "# concatenate the spam emails and labels as well\n",
    "emails += emails_spam\n",
    "labels += labels_spam\n",
    "\n",
    "# if the full_dataset flag is set to True, load the hard_ham directory too\n",
    "if include_hard_ham:\n",
    "    emails_hard_ham, labels_hard_ham = load_data_from_directories(hard_ham_1_dir, 'ham')\n",
    "\n",
    "    # concatenate the hard_ham emails and labels to the easy_ham ones\n",
    "    emails += emails_hard_ham\n",
    "    labels += labels_hard_ham\n",
    "\n",
    "if full_dataset:\n",
    "    # load the emails from the second set of ham and spam directories\n",
    "    emails_easy_ham_2, labels_easy_ham_2 = load_data_from_directories(easy_ham_2_dir, 'ham')\n",
    "    emails_spam_2, labels_spam_2 = load_data_from_directories(spam_2_dir, 'spam')\n",
    "\n",
    "    # concatenate the easy_ham_2 emails and labels to the easy_ham ones\n",
    "    emails += emails_easy_ham_2\n",
    "    labels += labels_easy_ham_2\n",
    "\n",
    "# print the number of emails loaded\n",
    "print(f\"Number of emails loaded: {len(emails)}\")"
   ]
  },
  {
   "cell_type": "code",
   "execution_count": 26,
   "metadata": {},
   "outputs": [
    {
     "name": "stdout",
     "output_type": "stream",
     "text": [
      "re new sequenc window robert elz emailaddr chris garrigu emailaddr date wed number aug number time number from chris garrigu emailaddr messageid emailaddr i cant reproduc this error for me it is veri repeat like everi time without fail this is the debug log of the pick happen time pickit exec pick inbox list lbrace lbrace subject ftp rbrace rbrace numbernumb sequenc mercuri time exec pick inbox list lbrace lbrace subject ftp rbrace rbrace numbernumb sequenc mercuri time ftocpickmsg number hit time mark number hit time tkerror syntax error in express int note if i run the pick command by hand delta pick inbox list lbrace lbrace subject ftp rbrace rbrace numbernumb sequenc mercuri number hit that where the number hit come from obvious the version of nmh im use is delta pick version pick nmhnumbernumbernumb compil on fuchsiacsmuozau at sun mar number time ict number and the relev part of my mhprofil delta mhparam pick seq sel list sinc the pick command work the sequenc actual both of them the one that explicit on the command line from the search popup and the one that come from mhprofil do get creat kre ps this is still use the version of the code form a day ago i havent been abl to reach the cvs repositori today local rout issu i think exmhwork mail list emailaddr httpaddr\n"
     ]
    }
   ],
   "source": [
    "# print the first email, just to check if everything is working\n",
    "print(emails[0])"
   ]
  },
  {
   "cell_type": "markdown",
   "metadata": {},
   "source": [
    "---\n",
    "#### Vectorize the data using a TF-IDF Vectorizer\n",
    "A TF-IDF Vectorizer is able to convert a collection of text objects into numerical vectors, which made it excellent for this use-case. TF-IDF stands for __Term Frequency-Inverse Document Frequency__ and evaluates how important a certain word is to a single instance in a collection of objects.  \n",
    "If a words appears often in one instance, it is considered important at first, but if it also appears in many other instances, its importance is decreased."
   ]
  },
  {
   "cell_type": "code",
   "execution_count": 27,
   "metadata": {},
   "outputs": [
    {
     "name": "stdout",
     "output_type": "stream",
     "text": [
      "(4651, 2000)\n"
     ]
    }
   ],
   "source": [
    "from sklearn.feature_extraction.text import TfidfVectorizer\n",
    "\n",
    "# create a TfidfVectorizer object with the desired parameters\n",
    "# stop_words='english' uses the built-in list of English stop words and removes them\n",
    "# max_features=2500 limits the number of features to the 2500 most important words\n",
    "vectorizer = TfidfVectorizer(stop_words=\"english\", max_features=2000)\n",
    "\n",
    "# fit the vectorizer to the emails and transform them into a matrix\n",
    "X = vectorizer.fit_transform(emails).toarray()\n",
    "y = labels\n",
    "\n",
    "# X is now a matrix, with rows representing the emails and columns the features\n",
    "print(X.shape)"
   ]
  },
  {
   "cell_type": "markdown",
   "metadata": {},
   "source": [
    "---\n",
    "#### Splitting into training and test set\n",
    "In this section, the classic split in to the training and test set is conducted. The distribution used is 80% to 20%."
   ]
  },
  {
   "cell_type": "code",
   "execution_count": 28,
   "metadata": {},
   "outputs": [],
   "source": [
    "from sklearn.model_selection import train_test_split\n",
    "\n",
    "# split the data into training and testing sets (80% training, 20% testing, classic 42 random state)\n",
    "X_train, X_test, y_train, y_test = train_test_split(\n",
    "    X, y, test_size=0.2, random_state=42\n",
    ")"
   ]
  },
  {
   "cell_type": "markdown",
   "metadata": {},
   "source": [
    "---\n",
    "#### Trying different classifiers\n",
    "In the following sections, diffferent classifiers are used and evaluated using the following metrics:"
   ]
  },
  {
   "cell_type": "code",
   "execution_count": 29,
   "metadata": {},
   "outputs": [],
   "source": [
    "from sklearn.metrics import accuracy_score, precision_score, recall_score, f1_score"
   ]
  },
  {
   "cell_type": "markdown",
   "metadata": {},
   "source": [
    "__Naive Bayes model__ (is apparently often used for spam classifiers)"
   ]
  },
  {
   "cell_type": "code",
   "execution_count": 30,
   "metadata": {},
   "outputs": [
    {
     "name": "stdout",
     "output_type": "stream",
     "text": [
      "Accuracy: 0.9462943071965628\n",
      "Precision: 0.7444444444444445\n",
      "Recall: 0.7127659574468085\n",
      "F1 Score: 0.7282608695652174\n"
     ]
    }
   ],
   "source": [
    "from sklearn.naive_bayes import MultinomialNB\n",
    "\n",
    "mnb_model = MultinomialNB()\n",
    "mnb_model.fit(X_train, y_train)\n",
    "\n",
    "y_pred = mnb_model.predict(X_test)\n",
    "\n",
    "print(f\"Accuracy: {accuracy_score(y_test, y_pred)}\")\n",
    "print(f\"Precision: {precision_score(y_test, y_pred)}\")\n",
    "print(f\"Recall: {recall_score(y_test, y_pred)}\")\n",
    "print(f\"F1 Score: {f1_score(y_test, y_pred)}\")"
   ]
  },
  {
   "cell_type": "markdown",
   "metadata": {},
   "source": [
    "__Support Vector Classifier__"
   ]
  },
  {
   "cell_type": "code",
   "execution_count": 31,
   "metadata": {},
   "outputs": [
    {
     "name": "stdout",
     "output_type": "stream",
     "text": [
      "Accuracy: 0.9849624060150376\n",
      "Precision: 0.9761904761904762\n",
      "Recall: 0.8723404255319149\n",
      "F1 Score: 0.9213483146067416\n"
     ]
    }
   ],
   "source": [
    "from sklearn.svm import SVC\n",
    "\n",
    "svc_model = SVC()\n",
    "svc_model.fit(X_train, y_train)\n",
    "\n",
    "y_pred = svc_model.predict(X_test)\n",
    "\n",
    "print(f\"Accuracy: {accuracy_score(y_test, y_pred)}\")\n",
    "print(f\"Precision: {precision_score(y_test, y_pred)}\")\n",
    "print(f\"Recall: {recall_score(y_test, y_pred)}\")\n",
    "print(f\"F1 Score: {f1_score(y_test, y_pred)}\")"
   ]
  },
  {
   "cell_type": "markdown",
   "metadata": {},
   "source": [
    "__Random Forest Classifier__"
   ]
  },
  {
   "cell_type": "code",
   "execution_count": 32,
   "metadata": {},
   "outputs": [
    {
     "name": "stdout",
     "output_type": "stream",
     "text": [
      "Accuracy: 0.9817400644468314\n",
      "Precision: 1.0\n",
      "Recall: 0.8191489361702128\n",
      "F1 Score: 0.9005847953216374\n"
     ]
    }
   ],
   "source": [
    "from sklearn.ensemble import RandomForestClassifier\n",
    "\n",
    "rf_model = RandomForestClassifier(random_state=42)\n",
    "rf_model.fit(X_train, y_train)\n",
    "\n",
    "y_pred = rf_model.predict(X_test)\n",
    "\n",
    "print(f\"Accuracy: {accuracy_score(y_test, y_pred)}\")\n",
    "print(f\"Precision: {precision_score(y_test, y_pred)}\")\n",
    "print(f\"Recall: {recall_score(y_test, y_pred)}\")\n",
    "print(f\"F1 Score: {f1_score(y_test, y_pred)}\")"
   ]
  },
  {
   "cell_type": "markdown",
   "metadata": {},
   "source": [
    "---\n",
    "#### Transforming new data to use with the models\n",
    "In this short section, it is shown how the functions and classes implemented before could be used in a pipeline to classify new, incoming emails"
   ]
  },
  {
   "cell_type": "code",
   "execution_count": 33,
   "metadata": {},
   "outputs": [
    {
     "name": "stdout",
     "output_type": "stream",
     "text": [
      "[1 0]\n"
     ]
    }
   ],
   "source": [
    "from sklearn.pipeline import make_pipeline\n",
    "\n",
    "# create a pipeline with an EmailPreprocessor and the TfidfVectorizer that was fitted before\n",
    "pipeline = make_pipeline(EmailPreprocessor(), vectorizer)\n",
    "\n",
    "\n",
    "# define new emails\n",
    "some_new_spam = \"Hello, I am a Nigerian prince and I would like to offer you a million dollars. Please send me your bank account details.\"\n",
    "some_new_ham = \"Hi, I was wondering if i could get my Nintendo Switch back. I only lent it to you for a week and it's been a month now.\"\n",
    "\n",
    "# transform the new emails using the pipeline\n",
    "X_new = pipeline.transform([some_new_spam, some_new_ham])\n",
    "\n",
    "# convert sparse matrix to dense (SVC was trained on dense matrix, TF-IDF outputs a sparse vector, needs to be converted)\n",
    "X_new = X_new.toarray()\n",
    "\n",
    "# predict the label of the new emails using the model\n",
    "labels = svc_model.predict(X_new)\n",
    "\n",
    "# the model correctly classifies the emails as spam ([1]) and ham ([0])\t\n",
    "print(labels)"
   ]
  },
  {
   "cell_type": "markdown",
   "metadata": {},
   "source": [
    "---\n",
    "## Classification results\n",
    "This section offers a quick overview over the performance of the three classifiers (Multinomial Naive-Bayes, SVC, Random Forest) used on varying datasets.\n",
    "\n",
    "The length of the feature vector (being controlled by changing the _max_features_ parameter of the TF-IDF Vectorizer) had significant impact on the performance of the model. Using a Trial & Error approach, the value leading to best results was __3000__. Interestingly, on earlier versions of the classifier, using a different random seed, __2000__ yielded better results.\n",
    "\n",
    "__Ham and Spam 1 only:__ (using a feature vector with a length of 3000)\n",
    "\n",
    "| __Classifier__     | __Accuracy__ | __Precision__ | __Recall__ | __F1-Score__ |\n",
    "|--------------------|--------------|---------------|------------|--------------|\n",
    "| Multinomial NB     | 0.9817       | 0.9782        | 0.9091     | 0.9424       |\n",
    "| __SVM Classifier__ | __0.9867__   | __1.0__       | __0.9192__ | __0.9579__   |\n",
    "| Random Forest      | 0.9817       | 0.9782        | 0.9091     | 0.9424       |\n",
    "\n",
    "\n",
    "__Ham and Spam 1 with hard ham:__ (using a feature vector with a length of 3000)\n",
    "\n",
    "| __Classifier__     | __Accuracy__ | __Precision__ | __Recall__ | __F1-Score__ |\n",
    "|--------------------|--------------|---------------|------------|--------------|\n",
    "| Multinomial NB     | 0.9154       | 0.6667        | 0.8298     | 0.7393       |\n",
    "| __SVM Classifier__ | __0.9877__   | __0.9778__    | __0.9362__ | __0.9565__   |\n",
    "| Random Forest      | 0.9769       | 0.9540        | 0.8830     | 0.9171       |\n",
    "\n",
    "\n",
    "__Full Dataset, including hard ham:__ (using a feature vector with a length of 3000)\n",
    "| __Classifier__     | __Accuracy__ | __Precision__ | __Recall__ | __F1-Score__ |\n",
    "|--------------------|--------------|---------------|------------|--------------|\n",
    "| Multinomial NB     | 0.9474       | 0.7473        | 0.7234     | 0.7351       |\n",
    "| __SVM Classifier__ | __0.9860__   | __0.9880__    | __0.8723__ | __0.9266__   |\n",
    "| Random Forest      | 0.9839       | 1.0           | 0.8404     | 0.9132       |\n",
    "\n",
    "As can be seen in the tables above, a __SVM classifier__ led to the __best__ results in all occations compared to the Multinomial Naive-Bayes and the Random-Forest classifier. The MNB classifier specifically started to struggle tremendously when introduced to the hard ham emails.\n",
    "\n",
    "---"
   ]
  }
 ],
 "metadata": {
  "kernelspec": {
   "display_name": ".venv",
   "language": "python",
   "name": "python3"
  },
  "language_info": {
   "codemirror_mode": {
    "name": "ipython",
    "version": 3
   },
   "file_extension": ".py",
   "mimetype": "text/x-python",
   "name": "python",
   "nbconvert_exporter": "python",
   "pygments_lexer": "ipython3",
   "version": "3.12.8"
  }
 },
 "nbformat": 4,
 "nbformat_minor": 2
}
