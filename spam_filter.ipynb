{
 "cells": [
  {
   "cell_type": "markdown",
   "metadata": {},
   "source": [
    "## Spam Classifier\n",
    "__Machine Learning & Data Science Assignment by Thöni Andreas__  \n",
    "2024\n",
    "\n",
    "---"
   ]
  },
  {
   "cell_type": "markdown",
   "metadata": {},
   "source": [
    "#### Preprocessing Infrastructure\n",
    "This section introduces the __EmailPreprocessor__ class, which is able to convert a raw email file into a stemmed and normalized string"
   ]
  },
  {
   "cell_type": "code",
   "execution_count": 6,
   "metadata": {},
   "outputs": [],
   "source": [
    "from email import policy\n",
    "from email.parser import BytesParser\n",
    "from nltk.stem.snowball import SnowballStemmer\n",
    "import re\n",
    "from string import punctuation\n",
    "\n",
    "class EmailPreprocessor:\n",
    "    \"\"\"\n",
    "    class for processing emails, extracting email parts and applying regex and stemming\n",
    "    \"\"\"\n",
    "\n",
    "    def __init__(self):\n",
    "        pass\n",
    "\n",
    "    def extract_email_parts(self, file_path):\n",
    "        \"\"\"\n",
    "        Extracts the subject, sender, recipient and body of an email file\n",
    "        arguments: file_path - path to the email file\n",
    "        return: dictionary with the email parts\n",
    "        \"\"\"\n",
    "\n",
    "        # Open the email file\n",
    "        with open(file_path, 'rb') as file:\n",
    "            # Parse the email using the default policy\n",
    "            email_message = BytesParser(policy=policy.default).parse(file)\n",
    "        \n",
    "        # Extract headers, like subject, sender and recipient\n",
    "        subject = email_message.get('Subject', '(No Subject)')\n",
    "        sender = email_message.get('From', '(Unknown Sender)')\n",
    "        recipient = email_message.get('To', '(Unknown Recipient)')\n",
    "        \n",
    "        # Extract body\n",
    "        body = \"\"\n",
    "        if email_message.get_body(preferencelist=('plain', 'html')):\n",
    "            body_content = email_message.get_body(preferencelist=('plain', 'html'))\n",
    "            body = body_content.get_content()  # Automatically decodes and gets the content\n",
    "        \n",
    "        # Return the email parts as a dictionary\n",
    "        return {\n",
    "            \"Subject\": subject,\n",
    "            \"From\": sender,\n",
    "            \"To\": recipient,\n",
    "            \"Body\": body.strip()\n",
    "        }\n",
    "\n",
    "    def stem_and_regex(self, email_dict):\n",
    "        \"\"\"\n",
    "        Applies stemming and regex operations to the email parts\n",
    "        arguments: email_dict - dictionary with the email parts\n",
    "        return: string with the processed email\n",
    "        \"\"\"\n",
    "\n",
    "        # create one string from the email parts\n",
    "        email_string = email_dict[\"Subject\"] + \" \" + email_dict[\"From\"] + \" \" + email_dict[\"To\"] + \" \" + email_dict[\"Body\"]\n",
    "\n",
    "        # convert to lowercase\n",
    "        email_string = email_string.lower()\n",
    "\n",
    "        # perform regex operations\n",
    "        # change email adresses to 'emailaddr'\n",
    "        email_string = re.sub(r'\\b[\\w\\.-]+@[\\w\\.-]+\\.\\w+\\b', 'emailaddr', email_string)\n",
    "\n",
    "        # change urls to 'httpaddr'\n",
    "        email_string = re.sub(r'(http|https)://[^\\s]*', 'httpaddr', email_string)\n",
    "\n",
    "        # change time to 'time'\n",
    "        email_string = re.sub(r'\\b\\d{1,2}:\\d{1,2}(:\\d{1,2})?\\b', 'time', email_string)\n",
    "\n",
    "        # change date to 'date'\n",
    "        email_string = re.sub(r'\\b\\d{1,2}/\\d{1,2}/\\d{4}\\b', 'date', email_string)\n",
    "\n",
    "        # change dollar to 'dollar'\n",
    "        email_string = re.sub(r'\\$\\S+', 'dollar', email_string)\n",
    "\n",
    "        # change www to 'wwwaddr'\n",
    "        email_string = re.sub(r'\\bwww\\.[^\\s]*\\b', 'wwwaddr', email_string)\n",
    "\n",
    "        # change percentages to 'percent'\n",
    "        email_string = re.sub(r'\\b\\d+%', 'percent', email_string)\n",
    "\n",
    "        # change ip to 'ipaddr'\n",
    "        email_string = re.sub(r'\\b\\d{1,3}\\.\\d{1,3}\\.\\d{1,3}\\.\\d{1,3}\\b', 'ipaddr', email_string)\n",
    "\n",
    "        # change numbers to 'number'\n",
    "        email_string = re.sub(r'\\b\\d+\\b', 'number', email_string)\n",
    "\n",
    "        # Remove itemization prefixes (bullets, numbered lists, etc.)\n",
    "        email_string = re.sub(r'^\\s*[\\d\\w][\\.\\)\\-]\\s*|[\\u2022\\u2219\\u25CB·]\\s*', '', email_string, flags=re.MULTILINE)\n",
    "\n",
    "        # other processing tasks\n",
    "        # remove punctuation\n",
    "        email_string = email_string.translate(str.maketrans('', '', punctuation))\n",
    "        email_string = email_string.replace('\\n', ' ')\n",
    "        email_string = email_string.replace('\\t', ' ')\n",
    "\n",
    "        # remove multiple spaces\n",
    "        email_string = re.sub(r'\\s+', ' ', email_string)\n",
    "\n",
    "        # stem the words\n",
    "        stemmer = SnowballStemmer('english')\n",
    "        email_string = ' '.join([stemmer.stem(word) for word in email_string.split()])\n",
    "\n",
    "        return email_string\n",
    "\n",
    "    def process_email(self,email_file_path):\n",
    "        \"\"\"\n",
    "        Process an email file, calls the extract_email_parts and stem_and_regex functions\n",
    "        arguments: email_file_path - path to the email file\n",
    "        return: string with the processed email\n",
    "        \"\"\"\n",
    "\n",
    "        email_parts = self.extract_email_parts(email_file_path)\n",
    "        processed = self.stem_and_regex(email_parts)\n",
    "\n",
    "        return processed"
   ]
  },
  {
   "cell_type": "markdown",
   "metadata": {},
   "source": [
    "#### Load and preprocess ham and spam emails"
   ]
  },
  {
   "cell_type": "code",
   "execution_count": 16,
   "metadata": {},
   "outputs": [
    {
     "name": "stdout",
     "output_type": "stream",
     "text": [
      "Error processing file ./datasets/20021010_spam/spam\\0226.409b6577c79d85773d50cb37fde4ba79\n",
      "Error processing file ./datasets/20021010_spam/spam\\0329.5c22249fa35fff050675e7df4433b89f\n",
      "Error processing file ./datasets/20021010_spam/spam\\0399.b9eab4251d9263129290cf7fc2aa4c7a\n",
      "Number of emails loaded: 3049\n"
     ]
    }
   ],
   "source": [
    "import os\n",
    "\n",
    "\n",
    "def load_data_from_directories(ham_dir, spam_dir):\n",
    "    \"\"\"\n",
    "    Load email data from given directories (ham and spam)\n",
    "    arguments: ham_dir - path to the ham directory\n",
    "               spam_dir - path to the spam directory\n",
    "    return: emails - list of email strings\n",
    "            labels - list of labels (0 for ham, 1 for spam)\n",
    "    \"\"\"\n",
    "\n",
    "    # Create an instance of the EmailPreprocessor class\n",
    "    preprocessor = EmailPreprocessor()\n",
    "\n",
    "    # Initialize lists to store the emails and labels\n",
    "    emails = []\n",
    "    labels = []\n",
    "\n",
    "    # Load ham emails\n",
    "    for file_name in os.listdir(ham_dir):\n",
    "        file_path = os.path.join(ham_dir, file_name)\n",
    "        try:\n",
    "            email = preprocessor.process_email(file_path)\n",
    "            emails.append(email)\n",
    "            labels.append(0)  # 0 for ham\n",
    "        except:\n",
    "            print(f\"Error processing file {file_path}\")\n",
    "\n",
    "    # Load spam emails\n",
    "    for file_name in os.listdir(spam_dir):\n",
    "        file_path = os.path.join(spam_dir, file_name)\n",
    "        try:\n",
    "            email = preprocessor.process_email(file_path)\n",
    "            emails.append(email)\n",
    "            labels.append(1)  # 1 for spam\n",
    "        except:\n",
    "            print(f\"Error processing file {file_path}\")\n",
    "    \n",
    "    return emails, labels\n",
    "\n",
    "# use the function to load the data\n",
    "ham_dir = \"./datasets/20021010_easy_ham/easy_ham\"\n",
    "spam_dir = \"./datasets/20021010_spam/spam\"\n",
    "\n",
    "emails, labels = load_data_from_directories(ham_dir, spam_dir)\n",
    "\n",
    "print(f\"Number of emails loaded: {len(emails)}\")"
   ]
  },
  {
   "cell_type": "markdown",
   "metadata": {},
   "source": [
    "#### Vectorize the data using a TfidfVectorizer"
   ]
  },
  {
   "cell_type": "code",
   "execution_count": null,
   "metadata": {},
   "outputs": [
    {
     "name": "stdout",
     "output_type": "stream",
     "text": [
      "(3049, 2000)\n"
     ]
    }
   ],
   "source": [
    "from sklearn.feature_extraction.text import TfidfVectorizer\n",
    "\n",
    "vectorizer = TfidfVectorizer(stop_words='english', max_features=2000)\n",
    "\n",
    "X = vectorizer.fit_transform(emails).toarray()\n",
    "y = labels\n",
    "\n",
    "print(X.shape)"
   ]
  },
  {
   "cell_type": "markdown",
   "metadata": {},
   "source": [
    "#### Splitting into training and test set"
   ]
  },
  {
   "cell_type": "code",
   "execution_count": 22,
   "metadata": {},
   "outputs": [],
   "source": [
    "from sklearn.model_selection import train_test_split\n",
    "\n",
    "X_train, X_test, y_train, y_test = train_test_split(X, y, test_size=0.2, random_state=42)"
   ]
  },
  {
   "cell_type": "markdown",
   "metadata": {},
   "source": [
    "---\n",
    "#### Try different classifiers"
   ]
  },
  {
   "cell_type": "code",
   "execution_count": 20,
   "metadata": {},
   "outputs": [],
   "source": [
    "from sklearn.metrics import accuracy_score, precision_score, recall_score, f1_score, confusion_matrix"
   ]
  },
  {
   "cell_type": "markdown",
   "metadata": {},
   "source": [
    "__Naive Bayes model__ (is apparently often used for spam classifiers)"
   ]
  },
  {
   "cell_type": "code",
   "execution_count": 23,
   "metadata": {},
   "outputs": [
    {
     "name": "stdout",
     "output_type": "stream",
     "text": [
      "Accuracy: 0.9754098360655737\n",
      "Precision: 0.9767441860465116\n",
      "Recall: 0.865979381443299\n"
     ]
    }
   ],
   "source": [
    "from sklearn.naive_bayes import MultinomialNB\n",
    "\n",
    "model = MultinomialNB()\n",
    "model.fit(X_train, y_train)\n",
    "\n",
    "y_pred = model.predict(X_test)\n",
    "\n",
    "print(f\"Accuracy: {accuracy_score(y_test, y_pred)}\")\n",
    "print(f\"Precision: {precision_score(y_test, y_pred)}\")\n",
    "print(f\"Recall: {recall_score(y_test, y_pred)}\")"
   ]
  }
 ],
 "metadata": {
  "kernelspec": {
   "display_name": ".venv",
   "language": "python",
   "name": "python3"
  },
  "language_info": {
   "codemirror_mode": {
    "name": "ipython",
    "version": 3
   },
   "file_extension": ".py",
   "mimetype": "text/x-python",
   "name": "python",
   "nbconvert_exporter": "python",
   "pygments_lexer": "ipython3",
   "version": "3.12.8"
  }
 },
 "nbformat": 4,
 "nbformat_minor": 2
}
